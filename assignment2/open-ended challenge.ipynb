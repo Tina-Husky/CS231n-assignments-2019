{
 "cells": [
  {
   "cell_type": "code",
   "execution_count": 1,
   "metadata": {},
   "outputs": [
    {
     "name": "stdout",
     "output_type": "stream",
     "text": [
      "using device: cuda\n"
     ]
    }
   ],
   "source": [
    "import torch\n",
    "import torch.nn as nn\n",
    "import torch.optim as optim\n",
    "import torch.nn.functional as F  # useful stateless functions\n",
    "from torch.utils.data import DataLoader\n",
    "from torch.utils.data import sampler\n",
    "\n",
    "import torchvision.datasets as dset\n",
    "import torchvision.transforms as T\n",
    "\n",
    "import numpy as np\n",
    "\n",
    "USE_GPU = True\n",
    "\n",
    "dtype = torch.float32 # we will be using float throughout this tutorial\n",
    "\n",
    "if USE_GPU and torch.cuda.is_available():\n",
    "    device = torch.device('cuda')\n",
    "else:\n",
    "    device = torch.device('cpu')\n",
    "\n",
    "# Constant to control how frequently we print train loss\n",
    "print_every = 100\n",
    "\n",
    "print('using device:', device)"
   ]
  },
  {
   "cell_type": "code",
   "execution_count": 2,
   "metadata": {},
   "outputs": [
    {
     "name": "stdout",
     "output_type": "stream",
     "text": [
      "Files already downloaded and verified\n",
      "Files already downloaded and verified\n",
      "Files already downloaded and verified\n"
     ]
    }
   ],
   "source": [
    "NUM_TRAIN = 49000\n",
    "\n",
    "transform = T.Compose([\n",
    "                T.ToTensor(),\n",
    "                T.Normalize((0.4914, 0.4822, 0.4465), (0.2023, 0.1994, 0.2010))\n",
    "            ])\n",
    "\n",
    "cifar10_train = dset.CIFAR10('./cs231n/datasets', train=True, download=True,\n",
    "                             transform=transform)\n",
    "loader_train = DataLoader(cifar10_train, batch_size=64, \n",
    "                          sampler=sampler.SubsetRandomSampler(range(NUM_TRAIN)))\n",
    "\n",
    "cifar10_val = dset.CIFAR10('./cs231n/datasets', train=True, download=True,\n",
    "                           transform=transform)\n",
    "loader_val = DataLoader(cifar10_val, batch_size=64, \n",
    "                        sampler=sampler.SubsetRandomSampler(range(NUM_TRAIN, 50000)))\n",
    "\n",
    "cifar10_test = dset.CIFAR10('./cs231n/datasets', train=False, download=True, \n",
    "                            transform=transform)\n",
    "loader_test = DataLoader(cifar10_test, batch_size=64)"
   ]
  },
  {
   "cell_type": "code",
   "execution_count": 3,
   "metadata": {},
   "outputs": [],
   "source": [
    "def flatten(x):\n",
    "    N = x.shape[0] # read in N, C, H, W\n",
    "    return x.view(N, -1)  # \"flatten\" the C * H * W values into a single vector per image\n",
    "\n",
    "def check_accuracy_part34(loader, model, verbose=True):\n",
    "    if verbose:\n",
    "        if loader.dataset.train:\n",
    "            print('Checking accuracy on validation set')\n",
    "        else:\n",
    "            print('Checking accuracy on test set')   \n",
    "    num_correct = 0\n",
    "    num_samples = 0\n",
    "    model.eval()  # set model to evaluation mode\n",
    "    with torch.no_grad():\n",
    "        for x, y in loader:\n",
    "            x = x.to(device=device, dtype=dtype)  # move to device, e.g. GPU\n",
    "            y = y.to(device=device, dtype=torch.long)\n",
    "            scores = model(x)\n",
    "            _, preds = scores.max(1)\n",
    "            num_correct += (preds == y).sum()\n",
    "            num_samples += preds.size(0)\n",
    "        acc = float(num_correct) / num_samples\n",
    "        if verbose:\n",
    "            print('Got %d / %d correct (%.2f)' % (num_correct, num_samples, 100 * acc))\n",
    "        return 100*acc\n",
    "        \n",
    "def train_part34(model, optimizer, epochs=1, verbose=True):\n",
    "    best_model = None\n",
    "    best_acc = 0\n",
    "    \n",
    "    model = model.to(device=device)  # move the model parameters to CPU/GPU\n",
    "    \n",
    "    for e in range(epochs):\n",
    "        for t, (x, y) in enumerate(loader_train):\n",
    "            model.train()  # put model to training mode\n",
    "            x = x.to(device=device, dtype=dtype)  # move to device, e.g. GPU\n",
    "            y = y.to(device=device, dtype=torch.long)\n",
    "\n",
    "            scores = model(x)\n",
    "            \n",
    "            loss = F.cross_entropy(scores, y)\n",
    "            \n",
    "            optimizer.zero_grad()\n",
    "            \n",
    "            loss.backward()\n",
    "            optimizer.step()\n",
    "            \n",
    "            if t % print_every == 0:\n",
    "                cur_acc = check_accuracy_part34(loader_val, model, verbose)\n",
    "                if verbose:\n",
    "                    print('epochs %d: Iteration %d, loss = %.4f' % (e, t, loss.item()))\n",
    "                    print()\n",
    "                if cur_acc > best_acc:\n",
    "                    best_model = model\n",
    "                    best_acc = cur_acc\n",
    "    best_model = best_model.to('cpu')\n",
    "    return best_model, best_acc"
   ]
  },
  {
   "cell_type": "code",
   "execution_count": 4,
   "metadata": {},
   "outputs": [],
   "source": [
    "class MyModel(nn.Module):\n",
    "    def __init__(self, in_channel, channel_1, channel_2, num_classes):\n",
    "        super().__init__()\n",
    "        self.conv1 = nn.Conv2d(in_channel, channel_1, (5,5), padding=2)\n",
    "        self.batchnorm1 = nn.BatchNorm2d(channel_1)\n",
    "        self.maxpool1 = nn.MaxPool2d((2,2))\n",
    "        self.conv2 = nn.Conv2d(channel_1, channel_2, (3,3))\n",
    "        self.batchnorm2 = nn.BatchNorm2d(channel_2)\n",
    "        self.maxpool2 = nn.MaxPool2d((2,2))\n",
    "        self.fc1 = nn.Linear(7*7*channel_2, 100)\n",
    "        self.fc2 = nn.Linear(100, num_classes)\n",
    "\n",
    "\n",
    "    def forward(self, x):\n",
    "        x = self.conv1(x)\n",
    "        x = self.batchnorm1(x)\n",
    "        x = F.leaky_relu(x)\n",
    "        x = F.relu(x)\n",
    "        x = self.maxpool1(x)\n",
    "        x = self.conv2(x)\n",
    "        x = self.batchnorm2(x)\n",
    "        x = F.leaky_relu(x)\n",
    "        x = self.maxpool2(x)\n",
    "        x = flatten(x)\n",
    "#         x = F.relu(F.dropout(self.fc1(x), p=0.5))\n",
    "#         x = F.relu(self.fc1(x))\n",
    "        x = F.leaky_relu(F.dropout(self.fc1(x), p=0.5))\n",
    "        x = self.fc2(x)\n",
    "        # print(x.shape)\n",
    "        scores = x\n",
    "\n",
    "        return scores"
   ]
  },
  {
   "cell_type": "code",
   "execution_count": 5,
   "metadata": {},
   "outputs": [
    {
     "name": "stdout",
     "output_type": "stream",
     "text": [
      "reg=0.0100, learning_rate=0.0100, cur_acc=64.2000\n",
      "reg=0.0100, learning_rate=0.0010, cur_acc=68.3000\n",
      "reg=0.0100, learning_rate=0.0001, cur_acc=55.3000\n",
      "reg=0.0100, learning_rate=0.0000, cur_acc=31.6000\n",
      "reg=0.0010, learning_rate=0.0100, cur_acc=71.0000\n",
      "reg=0.0010, learning_rate=0.0010, cur_acc=67.8000\n",
      "reg=0.0010, learning_rate=0.0001, cur_acc=54.9000\n",
      "reg=0.0010, learning_rate=0.0000, cur_acc=31.4000\n",
      "reg=0.0001, learning_rate=0.0100, cur_acc=71.3000\n",
      "reg=0.0001, learning_rate=0.0010, cur_acc=70.4000\n",
      "reg=0.0001, learning_rate=0.0001, cur_acc=54.9000\n",
      "reg=0.0001, learning_rate=0.0000, cur_acc=32.7000\n",
      "reg=0.0000, learning_rate=0.0100, cur_acc=71.0000\n",
      "reg=0.0000, learning_rate=0.0010, cur_acc=68.2000\n",
      "reg=0.0000, learning_rate=0.0001, cur_acc=52.8000\n",
      "reg=0.0000, learning_rate=0.0000, cur_acc=31.1000\n"
     ]
    }
   ],
   "source": [
    "# learning_rate = 1e-4, 1e-2\n",
    "best_acc = 0\n",
    "best_model = None\n",
    "for reg in [1e-2, 1e-3, 1e-4, 1e-5]:\n",
    "    for learning_rate in [1e-2, 1e-3, 1e-4, 1e-5]:\n",
    "        model = MyModel(in_channel=3, channel_1=64, channel_2=32, num_classes=10)\n",
    "        optimizer = optim.SGD(model.parameters(), lr=learning_rate, momentum=0.9, nesterov=True, weight_decay=reg)\n",
    "        # optimizer = optim.Adam(model.parameters(), lr=learning_rate, weight_decay=reg)\n",
    "        cur_model, cur_acc = train_part34(model, optimizer, epochs=10, verbose=False)\n",
    "        print('reg=%.4f, learning_rate=%.4f, cur_acc=%.4f' % (reg, learning_rate, cur_acc))"
   ]
  },
  {
   "cell_type": "code",
   "execution_count": 9,
   "metadata": {},
   "outputs": [
    {
     "name": "stdout",
     "output_type": "stream",
     "text": [
      "reg=0.0020, learning_rate=0.0200, cur_acc=69.4000\n",
      "reg=0.0020, learning_rate=0.0100, cur_acc=70.2000\n",
      "reg=0.0020, learning_rate=0.0050, cur_acc=70.0000\n",
      "reg=0.0010, learning_rate=0.0200, cur_acc=69.4000\n",
      "reg=0.0010, learning_rate=0.0100, cur_acc=70.4000\n",
      "reg=0.0010, learning_rate=0.0050, cur_acc=71.4000\n",
      "reg=0.0005, learning_rate=0.0200, cur_acc=70.0000\n",
      "reg=0.0005, learning_rate=0.0100, cur_acc=70.2000\n",
      "reg=0.0005, learning_rate=0.0050, cur_acc=71.3000\n"
     ]
    }
   ],
   "source": [
    "for reg in [2e-3, 1e-3, 5e-4]:\n",
    "    for learning_rate in [2e-2, 1e-2, 5e-3]:\n",
    "        model = MyModel(in_channel=3, channel_1=64, channel_2=32, num_classes=10)\n",
    "        optimizer = optim.SGD(model.parameters(), lr=learning_rate, momentum=0.9, nesterov=True, weight_decay=reg)\n",
    "        # optimizer = optim.Adam(model.parameters(), lr=learning_rate, weight_decay=reg)\n",
    "        cur_model, cur_acc = train_part34(model, optimizer, epochs=10, verbose=False)\n",
    "        print('reg=%.4f, learning_rate=%.4f, cur_acc=%.4f' % (reg, learning_rate, cur_acc))\n",
    "        if cur_acc > best_acc:\n",
    "            best_acc = cur_acc\n",
    "            best_model = cur_model"
   ]
  },
  {
   "cell_type": "markdown",
   "metadata": {},
   "source": [
    "## Test set -- run this only once\n",
    "\n",
    "Now that we've gotten a result we're happy with, we test our final model on the test set (which you should store in best_model). Think about how this compares to your validation set accuracy."
   ]
  },
  {
   "cell_type": "code",
   "execution_count": 10,
   "metadata": {},
   "outputs": [
    {
     "name": "stdout",
     "output_type": "stream",
     "text": [
      "Checking accuracy on test set\n",
      "Got 7012 / 10000 correct (70.12)\n"
     ]
    },
    {
     "data": {
      "text/plain": [
       "70.12"
      ]
     },
     "execution_count": 10,
     "metadata": {},
     "output_type": "execute_result"
    }
   ],
   "source": [
    "# best_model = model\n",
    "best_model = best_model.to(device=device)\n",
    "check_accuracy_part34(loader_test, best_model)"
   ]
  }
 ],
 "metadata": {
  "kernelspec": {
   "display_name": "Python 3",
   "language": "python",
   "name": "python3"
  },
  "language_info": {
   "codemirror_mode": {
    "name": "ipython",
    "version": 3
   },
   "file_extension": ".py",
   "mimetype": "text/x-python",
   "name": "python",
   "nbconvert_exporter": "python",
   "pygments_lexer": "ipython3",
   "version": "3.7.4"
  }
 },
 "nbformat": 4,
 "nbformat_minor": 2
}
